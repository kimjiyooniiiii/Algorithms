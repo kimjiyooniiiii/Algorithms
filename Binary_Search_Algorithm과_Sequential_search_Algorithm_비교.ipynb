{
  "nbformat": 4,
  "nbformat_minor": 0,
  "metadata": {
    "colab": {
      "provenance": [],
      "collapsed_sections": [],
      "authorship_tag": "ABX9TyM1+PoIVGvERGP5PSL0xBud",
      "include_colab_link": true
    },
    "kernelspec": {
      "name": "python3",
      "display_name": "Python 3"
    },
    "language_info": {
      "name": "python"
    }
  },
  "cells": [
    {
      "cell_type": "markdown",
      "metadata": {
        "id": "view-in-github",
        "colab_type": "text"
      },
      "source": [
        "<a href=\"https://colab.research.google.com/github/kimjiyooniiiii/Algorithms/blob/main/Binary_Search_Algorithm%EA%B3%BC_Sequential_search_Algorithm_%EB%B9%84%EA%B5%90.ipynb\" target=\"_parent\"><img src=\"https://colab.research.google.com/assets/colab-badge.svg\" alt=\"Open In Colab\"/></a>"
      ]
    },
    {
      "cell_type": "markdown",
      "source": [
        "# **Binary Search Algorithm과 Sequential search Algorithm 비교**\n",
        "\n",
        "배열에서 특정값을 찾을 때 두 알고리즘 중 어떤 것이 더 효율적일지 따져본다.   \n",
        "\n",
        "\n"
      ],
      "metadata": {
        "id": "QY3Q_4by5F2k"
      }
    },
    {
      "cell_type": "markdown",
      "source": [
        "**문제 : 배열 arr에서 54의 index를 찾는데 걸리는 시간을 측정해보자**   "
      ],
      "metadata": {
        "id": "5hoBbd-iaEPw"
      }
    },
    {
      "cell_type": "markdown",
      "source": [
        "먼저, **Sequential search Algorithm**으로 구현한 정렬 알고리즘"
      ],
      "metadata": {
        "id": "HU5_9fxscz2D"
      }
    },
    {
      "cell_type": "code",
      "source": [
        "arr = [4, 5, 10, 28, 33, 38, 40, 54, 77, 99]\n",
        "\n",
        "def sequential(arr) :\n",
        "  for i in range(len(arr)):\n",
        "    if arr[i] == 54 :\n",
        "      return i\n",
        "  return -1\n",
        "\n",
        "print(sequential(arr))"
      ],
      "metadata": {
        "colab": {
          "base_uri": "https://localhost:8080/"
        },
        "id": "dTqS9yMVY0HM",
        "outputId": "3b044ba0-a5a8-443e-881a-f30cfc9ea011"
      },
      "execution_count": 1,
      "outputs": [
        {
          "output_type": "stream",
          "name": "stdout",
          "text": [
            "7\n"
          ]
        }
      ]
    },
    {
      "cell_type": "markdown",
      "source": [
        "배열의 첫 index부터 54의 index까지 순차적으로 탐색하기 때문에 시간복잡도는 T(n) ∈ O(n) 이 된다."
      ],
      "metadata": {
        "id": "YUlyl1aibAhI"
      }
    },
    {
      "cell_type": "markdown",
      "source": [
        "다음으로, **Binary Search Algorithm**을 이용한 정렬 알고리즘  \n",
        "\n",
        "( * Binary Search를 이용할 때는 배열이 오름차순이나 내림차순으로 정렬되어 있어야 한다.)"
      ],
      "metadata": {
        "id": "X5SWrpsDdHHh"
      }
    },
    {
      "cell_type": "code",
      "source": [
        "arr = [4, 5, 10, 28, 33, 38, 40, 54, 77, 99]\n",
        "\n",
        "start = 0                   # 배열의 첫번째 인덱스\n",
        "end = len(arr) - 1          # 배열의 끝 인덱스\n",
        "\n",
        "def binary(start, end) :\n",
        "  if start > end :\n",
        "    return -1\n",
        "\n",
        "  mid = (start + end) // 2\n",
        "\n",
        "  if arr[mid] == 54 :\n",
        "    return mid\n",
        "\n",
        "  elif arr[mid] > 54 :\n",
        "    return binary(start, mid - 1)\n",
        "\n",
        "  elif arr[mid] < 54 :\n",
        "    return binary(mid + 1, end)\n",
        "\n",
        "\n",
        "print(binary(start, end))"
      ],
      "metadata": {
        "id": "da3TXupFdU4k",
        "colab": {
          "base_uri": "https://localhost:8080/"
        },
        "outputId": "115963c4-2cee-4a89-db84-a9bb79c4f7c0"
      },
      "execution_count": 14,
      "outputs": [
        {
          "output_type": "stream",
          "name": "stdout",
          "text": [
            "7\n"
          ]
        }
      ]
    },
    {
      "cell_type": "markdown",
      "source": [
        "Binary Search Algorithm을 이용해 탐색하는 배열의 크기를 반으로 줄여가기 때문에 시간 복잡도는 T(n) ∈ O(lg n) 이 된다."
      ],
      "metadata": {
        "id": "7Ehy_3owKMJS"
      }
    },
    {
      "cell_type": "markdown",
      "source": [
        "**결론**   \n",
        "\n",
        "두 알고리즘을 비교했을 때 시간 복잡도가 T(n) ∈ O(n) 과 T(n) ∈ O(lg n) 으로 Binary Search Algorithm이 훨씬 적게 걸리는 것을 알 수 있다.\n",
        "\n",
        "따라서, 오름차순이나 내림차순으로 정렬된 배열에서는 Binary Search Algorithm을 이용했을 때 훨씬 시간적으로 효율적인 알고리즘이라는 것을 알 수 있다."
      ],
      "metadata": {
        "id": "Yk0MmVeTL8Bf"
      }
    },
    {
      "cell_type": "markdown",
      "source": [
        "**시간 복잡도를 조금 더 줄여보자**   \n",
        "\n",
        "위에서 구현한 Binary Search Algorithm은 tail-recursion (함수를 호출해서 받은 결과값에 아무것도 하지않고 그냥 바로 return 하는 것) 형태의 알고리즘이다.   \n",
        "tail-recursion이 사용되었을 때는 재귀함수보다 반복문으로 구현하는 것이 stack memory 사용이 적어져 조금 더 빠른 알고리즘을 만들 수 있다."
      ],
      "metadata": {
        "id": "pdeoSlpvM5kI"
      }
    },
    {
      "cell_type": "code",
      "source": [
        "arr = [4, 5, 10, 28, 33, 38, 40, 54, 77, 99]\n",
        "\n",
        "def interative() :\n",
        "  start = 0\n",
        "  end = len(arr) - 1\n",
        "\n",
        "  while start <= end :\n",
        "    mid = (start + end) // 2\n",
        "\n",
        "    if arr[mid] == 54 :\n",
        "      return mid\n",
        "    \n",
        "    elif arr[mid] < 54 :\n",
        "      start = mid + 1\n",
        "\n",
        "    elif arr[mid] > 54 :\n",
        "      end = mid - 1\n",
        "\n",
        "  return -1\n",
        "\n",
        "print(interative())"
      ],
      "metadata": {
        "colab": {
          "base_uri": "https://localhost:8080/"
        },
        "id": "NyGOYaCgSi5t",
        "outputId": "d95f1a35-f4de-4dc6-ba52-a99fd2ae72b8"
      },
      "execution_count": 13,
      "outputs": [
        {
          "output_type": "stream",
          "name": "stdout",
          "text": [
            "7\n"
          ]
        }
      ]
    }
  ]
}